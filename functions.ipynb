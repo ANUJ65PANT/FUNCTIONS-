{
  "nbformat": 4,
  "nbformat_minor": 0,
  "metadata": {
    "colab": {
      "provenance": []
    },
    "kernelspec": {
      "name": "python3",
      "display_name": "Python 3"
    },
    "language_info": {
      "name": "python"
    }
  },
  "cells": [
    {
      "cell_type": "code",
      "execution_count": null,
      "metadata": {
        "id": "ug5_9HYLtTcQ"
      },
      "outputs": [],
      "source": []
    },
    {
      "cell_type": "markdown",
      "source": [
        "\n",
        "\n",
        "#FUNCTIONS -THEORY QUESTIONS\n",
        "1. What is the difference between a function and a method in Python?\n",
        "-> A function is a block of reusable code that is not bound to any object. A method is similar, but it is associated with an object and is called on an object (usually a class instance).\n",
        "\n",
        "\t2. Explain the concept of function arguments and parameters in Python.\n",
        "->Parameters are the variables listed in a function definition. Arguments are the actual values passed to a function when it is called.\n",
        "\n",
        "\t3. What are the different ways to define and call a function in Python?\n",
        "->Functions can be defined using the `def` keyword or with a `lambda` expression. They are called by using the function name followed by parentheses and arguments.\n",
        "\n",
        "\t4. What is the purpose of the `return` statement in a Python function?\n",
        "->The `return` statement is used to send a result back to the caller of the function. It ends the function execution.\n",
        "\n",
        "\t5. What are iterators in Python and how do they differ from iterables?\n",
        "->An iterable is any object that can return an iterator, like lists or tuples. An iterator is an object that implements the `__next__()` and `__iter__()` methods and is used to iterate over iterables.\n",
        "\n",
        "\t6. Explain the concept of generators in Python and how they are defined.\n",
        "->Generators are a type of iterable created using a function with the `yield` keyword. They allow lazy evaluation, generating items one at a time.\n",
        "\n",
        "\t7. What are the advantages of using generators over regular functions?\n",
        "->Generators use less memory as they yield items one at a time and do not store the entire sequence in memory.\n",
        "\n",
        "\t8. What is a lambda function in Python and when is it typically used?\n",
        "->A lambda function is an anonymous, inline function defined with the `lambda` keyword. It's useful for short, throwaway functions.\n",
        "\n",
        "9. Explain the purpose and usage of the `map()` function in Python.\n",
        "`->map()` applies a given function to all items in an iterable and returns a map object (an iterator).\n",
        "\n",
        "10. What is the difference between `map()`, `reduce()`, and `filter()` functions in Python?\n",
        "`->map()` transforms each item in an iterable, `filter()` selects items based on a condition, and `reduce()` performs a rolling computation to reduce the iterable to a single value.\n",
        "\n",
        "11. Using pen & paper, write the internal mechanism for the sum operation using the reduce function on this given input.-> https://drive.google.com/file/d/1ZuOZDB6-ypzfNjatCoviKp7xUIMOesr9/view?usp=sharing\n",
        "\n"
      ],
      "metadata": {
        "id": "UWrzhh9ItVec"
      }
    },
    {
      "cell_type": "code",
      "source": [
        "# Function to Sum All Even Numbers in a List\n",
        "\n",
        "def sum_even_numbers(numbers):\n",
        "    return sum(num for num in numbers if num % 2 == 0)\n",
        "\n",
        "sum_even_numbers([1, 2, 3, 4, 5, 6])\n"
      ],
      "metadata": {
        "colab": {
          "base_uri": "https://localhost:8080/"
        },
        "id": "CAa7SyV22PfJ",
        "outputId": "a553ca30-e7cd-4eb6-e472-da42dcddfa76"
      },
      "execution_count": 25,
      "outputs": [
        {
          "output_type": "execute_result",
          "data": {
            "text/plain": [
              "12"
            ]
          },
          "metadata": {},
          "execution_count": 25
        }
      ]
    },
    {
      "cell_type": "code",
      "source": [
        "# Function to Reverse a String\n",
        "\n",
        "def reverse_string(s):\n",
        "    return s[::-1]\n",
        "reverse_string(s=\"hello\")"
      ],
      "metadata": {
        "colab": {
          "base_uri": "https://localhost:8080/",
          "height": 36
        },
        "id": "L_JbScRC2__C",
        "outputId": "987b9c85-c3dc-4737-8722-7d9a3cb490fa"
      },
      "execution_count": 27,
      "outputs": [
        {
          "output_type": "execute_result",
          "data": {
            "text/plain": [
              "'olleh'"
            ],
            "application/vnd.google.colaboratory.intrinsic+json": {
              "type": "string"
            }
          },
          "metadata": {},
          "execution_count": 27
        }
      ]
    },
    {
      "cell_type": "code",
      "source": [
        "#3. Function to Return Squares of Each Number in a List\n",
        "\n",
        "def square_numbers(numbers):\n",
        "    return [num ** 2 for num in numbers]\n",
        "square_numbers([1,2,3])"
      ],
      "metadata": {
        "colab": {
          "base_uri": "https://localhost:8080/"
        },
        "id": "tbPiDlFE3Knf",
        "outputId": "3f82bfc2-bc13-497d-91a5-d00050ce96df"
      },
      "execution_count": 30,
      "outputs": [
        {
          "output_type": "execute_result",
          "data": {
            "text/plain": [
              "[1, 4, 9]"
            ]
          },
          "metadata": {},
          "execution_count": 30
        }
      ]
    },
    {
      "cell_type": "code",
      "source": [
        "#4. Function to Check for Prime Numbers from 1 to 200\n",
        "\n",
        "def is_prime(n):\n",
        "    if n < 2:\n",
        "        return False\n",
        "    for i in range(2, int(n**0.5) + 1):\n",
        "        if n % i == 0:\n",
        "            return False\n",
        "    return True\n",
        "\n",
        "\n",
        "primes = [num for num in range(1, 201) if is_prime(num)]\n"
      ],
      "metadata": {
        "id": "U67U4vwk3b27"
      },
      "execution_count": 32,
      "outputs": []
    },
    {
      "cell_type": "code",
      "source": [
        "#5. Iterator Class for Fibonacci Sequence\n",
        "\n",
        "class Fibonacci:\n",
        "    def __init__(self, max_terms):\n",
        "        self.max_terms = max_terms\n",
        "        self.a, self.b = 0, 1\n",
        "        self.count = 0\n",
        "\n",
        "    def __iter__(self):\n",
        "        return self\n",
        "\n",
        "    def __next__(self):\n",
        "        if self.count >= self.max_terms:\n",
        "            raise StopIteration\n",
        "        result = self.a\n",
        "        self.a, self.b = self.b, self.a + self.b\n",
        "        self.count += 1\n",
        "        return result"
      ],
      "metadata": {
        "id": "cechiaa43uCY"
      },
      "execution_count": 33,
      "outputs": []
    },
    {
      "cell_type": "code",
      "source": [
        "\n",
        "#6. Generator Function Yielding Powers of 2\n",
        "\n",
        "def powers_of_two(exponent):\n",
        "    for i in range(exponent + 1):\n",
        "        yield 2 ** i"
      ],
      "metadata": {
        "id": "UwO57xcY33sB"
      },
      "execution_count": 34,
      "outputs": []
    },
    {
      "cell_type": "code",
      "source": [
        "\n",
        "#7. Generator to Read File Line by Line\n",
        "\n",
        "def read_file_lines(filename):\n",
        "    with open(filename, 'r') as file:\n",
        "        for line in file:\n",
        "            yield line.strip()"
      ],
      "metadata": {
        "id": "pOwVz4LE4QFD"
      },
      "execution_count": 35,
      "outputs": []
    },
    {
      "cell_type": "code",
      "source": [
        "\n",
        "#8. Lambda Function to Sort Tuples by Second Element\n",
        "\n",
        "tuples = [(1, 3), (4, 1), (2, 2)]\n",
        "sorted_tuples = sorted(tuples, key=lambda x: x[1])\n",
        "print(sorted_tuples)"
      ],
      "metadata": {
        "colab": {
          "base_uri": "https://localhost:8080/"
        },
        "id": "9k1bMv604UxL",
        "outputId": "ecddad04-78dd-44d9-c48c-fc2bd5abf454"
      },
      "execution_count": 36,
      "outputs": [
        {
          "output_type": "stream",
          "name": "stdout",
          "text": [
            "[(4, 1), (2, 2), (1, 3)]\n"
          ]
        }
      ]
    },
    {
      "cell_type": "code",
      "source": [
        "\n",
        "#9. Convert Celsius to Fahrenheit Using map()\n",
        "\n",
        "celsius = [0, 20, 37, 100]\n",
        "fahrenheit = list(map(lambda c: (c * 9/5) + 32, celsius))\n",
        "print(fahrenheit)"
      ],
      "metadata": {
        "colab": {
          "base_uri": "https://localhost:8080/"
        },
        "id": "uHHky5NC4baw",
        "outputId": "a0506254-9ca9-4ca4-f206-34ce08cf872d"
      },
      "execution_count": 39,
      "outputs": [
        {
          "output_type": "stream",
          "name": "stdout",
          "text": [
            "[32.0, 68.0, 98.6, 212.0]\n"
          ]
        }
      ]
    },
    {
      "cell_type": "code",
      "source": [],
      "metadata": {
        "id": "KJjMoaFZ47JL"
      },
      "execution_count": null,
      "outputs": []
    },
    {
      "cell_type": "code",
      "source": [
        "#10. Use filter() to Remove Vowels from String\n",
        "\n",
        "def remove_vowels(s):\n",
        "    vowels = 'aeiouAEIOU'\n",
        "    return ''.join(filter(lambda char: char not in vowels, s))\n",
        "remove_vowels(\"anuj\")"
      ],
      "metadata": {
        "colab": {
          "base_uri": "https://localhost:8080/",
          "height": 36
        },
        "id": "Yj_L34Rt4gUt",
        "outputId": "f5902985-743c-4b3e-fab8-55718ed2f19f"
      },
      "execution_count": 41,
      "outputs": [
        {
          "output_type": "execute_result",
          "data": {
            "text/plain": [
              "'nj'"
            ],
            "application/vnd.google.colaboratory.intrinsic+json": {
              "type": "string"
            }
          },
          "metadata": {},
          "execution_count": 41
        }
      ]
    },
    {
      "cell_type": "code",
      "source": [
        "#11) Imagine an accounting routine used in a book shop. It works on a list with sublists, which look like this:\n",
        "orders = [\n",
        "    [1, \"Book A\", 2, 45.00],   # Total = 90 → Add €10 → 100\n",
        "    [2, \"Book B\", 1, 35.00],   # Total = 35 → Add €10 → 45\n",
        "    [3, \"Book C\", 4, 25.00],   # Total = 100 → No extra\n",
        "    [4, \"Book D\", 3, 50.00]    # Total = 150 → No extra\n",
        "]\n",
        "\n",
        "# Lambda + map to compute the final 2-tuples\n",
        "result = list(map(lambda order: (\n",
        "    order[0],\n",
        "    order[2] * order[3] + (10 if order[2] * order[3] < 100 else 0)\n",
        "), orders))\n",
        "\n",
        "print(result)\n",
        "\n",
        "\n",
        "[(1, 100.0), (2, 45.0), (3, 100.0), (4, 150.0)]"
      ],
      "metadata": {
        "colab": {
          "base_uri": "https://localhost:8080/"
        },
        "id": "9eE119AX7MRE",
        "outputId": "60961789-0e66-4242-93a5-3292ae56f22b"
      },
      "execution_count": 42,
      "outputs": [
        {
          "output_type": "stream",
          "name": "stdout",
          "text": [
            "[(1, 100.0), (2, 45.0), (3, 100.0), (4, 150.0)]\n"
          ]
        },
        {
          "output_type": "execute_result",
          "data": {
            "text/plain": [
              "[(1, 100.0), (2, 45.0), (3, 100.0), (4, 150.0)]"
            ]
          },
          "metadata": {},
          "execution_count": 42
        }
      ]
    }
  ]
}